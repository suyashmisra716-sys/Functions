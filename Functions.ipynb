{
  "nbformat": 4,
  "nbformat_minor": 0,
  "metadata": {
    "colab": {
      "provenance": []
    },
    "kernelspec": {
      "name": "python3",
      "display_name": "Python 3"
    },
    "language_info": {
      "name": "python"
    }
  },
  "cells": [
    {
      "cell_type": "markdown",
      "source": [
        "***Functions***\n",
        "\n",
        "Q1.What is the difference between a function and a method in Python?\n",
        "\n",
        "- 1. Function\n",
        "\n",
        "A function in Python is a block of reusable code that performs a specific task.\n",
        "\n",
        "It is defined using the def keyword (or lambda for anonymous functions).\n",
        "\n",
        "A function is independent of objects—it can exist on its own.\n",
        "\n",
        "2. Method\n",
        "\n",
        "A method is a function that is associated with an object (specifically, a class instance).\n",
        "\n",
        "It is defined inside a class and takes the instance (self) as its first argument.\n",
        "\n",
        "Methods are called on objects, and they can access/modify the object’s data (attributes)."
      ],
      "metadata": {
        "id": "4qSjASD7CAIG"
      }
    },
    {
      "cell_type": "markdown",
      "source": [
        "Q2. Explain the concept of function arguments and parameters in Python.\n",
        "\n",
        "- 1. Parameters\n",
        "\n",
        "Parameters are the placeholders or variables defined in a function’s definition.\n",
        "\n",
        "They specify what kind of data the function expects.\n",
        "\n",
        "Think of them as “inputs the function needs.”\n",
        "\n",
        "2. Arguments\n",
        "\n",
        "Arguments are the actual values you pass into the function when calling it.\n",
        "\n",
        "They get assigned to the function’s parameters."
      ],
      "metadata": {
        "id": "FC3erm8aCCng"
      }
    },
    {
      "cell_type": "markdown",
      "source": [
        "Q3.What are the different ways to define and call a function in Python?\n",
        "\n",
        "- Define functions → def, default params, *args, **kwargs, lambda, nested, methods.\n",
        "\n",
        "Call functions → positional, keyword, mixed, unpacking (*/**), or even passing functions as arguments."
      ],
      "metadata": {
        "id": "IWckLr-6DymA"
      }
    },
    {
      "cell_type": "markdown",
      "source": [
        "Q4.What is the purpose of the `return` statement in a Python function?\n",
        "\n",
        "- The return statement is used inside a function to send a value back to the caller.\n",
        "It essentially decides what the function “gives back” after it finishes running."
      ],
      "metadata": {
        "id": "YNIc_plCEcfM"
      }
    },
    {
      "cell_type": "markdown",
      "source": [
        "Q5.What are iterators in Python and how do they differ from iterables?\n",
        "\n",
        "- 1. Iterable\n",
        "\n",
        "An iterable is any Python object capable of returning its members one at a time.\n",
        "\n",
        "It implements the __iter__() method, which returns an iterator.\n",
        "\n",
        "Examples: lists, tuples, strings, dictionaries, sets, and even file objects.\n",
        "\n",
        "2. Iterator\n",
        "\n",
        "An iterator is an object that represents a stream of data.\n",
        "\n",
        "It implements:\n",
        "\n",
        "__iter__() → returns the iterator object itself.\n",
        "\n",
        "__next__() → returns the next item from the sequence.\n",
        "\n",
        "When no more items are available, it raises a StopIteration exception."
      ],
      "metadata": {
        "id": "gKI28RXSEzaI"
      }
    },
    {
      "cell_type": "markdown",
      "source": [
        "Q6. Explain the concept of generators in Python and how they are defined.\n",
        "\n",
        "- A generator in Python is:\n",
        "\n",
        "A special type of iterator.\n",
        "\n",
        "Defined with a function using yield instead of return.\n",
        "\n",
        "Produces values on the fly, rather than computing and storing them all at once."
      ],
      "metadata": {
        "id": "vlaFz6TWF6Gc"
      }
    },
    {
      "cell_type": "markdown",
      "source": [
        "Q7.What are the advantages of using generators over regular functions?\n",
        "\n",
        "- Generators are advantageous over regular functions because they offer memory efficiency by producing values one at a time instead of storing them all, allowing for infinite sequences, and providing lazy evaluation where values are generated only when needed, making them ideal for processing large datasets, streams, or complex data pipelines. Their unique ability to pause and resume execution using yield preserves state between calls, unlike normal functions that run to completion."
      ],
      "metadata": {
        "id": "swjmidtIG5vY"
      }
    },
    {
      "cell_type": "markdown",
      "source": [
        "Q8.What is a lambda function in Python and when is it typically used?\n",
        "\n",
        "- A lambda function in Python is a small, anonymous function defined using the lambda keyword. Unlike regular functions defined with def, lambda functions do not have a name and are restricted to a single expression, which is implicitly returned. They can take any number of arguments.\n",
        "\n",
        " Lambda functions are typically used in scenarios where a small, single-expression function is needed for a short period, often as an argument to a higher-order function (a function that takes other functions as arguments)."
      ],
      "metadata": {
        "id": "Kstral0SHh7O"
      }
    },
    {
      "cell_type": "markdown",
      "source": [
        "Q9.Explain the purpose and usage of the `map()` function in Python.\n",
        "\n",
        "- The map() function in Python is a built-in higher-order function used to apply a specified function to each item in an iterable (such as a list, tuple, or set). It provides a concise and efficient way to transform data within collections without explicitly writing loops."
      ],
      "metadata": {
        "id": "kvuP9OjqIRT1"
      }
    },
    {
      "cell_type": "markdown",
      "source": [
        "Q10.What is the difference between `map()`, `reduce()`, and `filter()` functions in Python?\n",
        "\n",
        "- map(function, iterable):\n",
        "\n",
        "Purpose: Applies a given function to each item in an iterable (e.g., a list, tuple) and returns a new iterable containing the results.\n",
        "\n",
        "Output: An iterable (specifically, a map object in Python 3, which is an iterator) of the same length as the input iterable, where each element is the result of applying the function to the corresponding input element.\n",
        "\n",
        "Example: Doubling all numbers in a list.\n",
        "\n",
        "filter(function, iterable):\n",
        "\n",
        "Purpose: Constructs a new iterable from elements of an existing iterable for which the given function (often called a predicate) returns True.\n",
        "\n",
        "Output: An iterable (a filter object) containing only the elements from the original iterable that satisfy the condition defined by the function. The length of the output iterable is typically less than or equal to the input.\n",
        "\n",
        "Example: Extracting even numbers from a list.\n",
        "\n",
        "reduce(function, iterable, initializer):\n",
        "\n",
        "Purpose: Applies a function cumulatively to the items of an iterable, reducing the iterable to a single value. It performs a \"rolling computation.\"\n",
        "\n",
        "Note: reduce() is part of the functools module and needs to be imported: from functools import reduce.\n",
        "\n",
        "Output: A single value that is the result of the cumulative application of the function.\n",
        "\n",
        "Example: Calculating the sum of all numbers in a list."
      ],
      "metadata": {
        "id": "z0cXPsJSnmWB"
      }
    },
    {
      "cell_type": "code",
      "source": [
        "#Q1.Write a Python function that takes a list of numbers as input and returns the sum of all even numbers in the list.\n",
        "\n",
        "def sum_of_evens(numbers):\n",
        "    \"\"\"\n",
        "    Returns the sum of all even numbers in the given list.\n",
        "\n",
        "    :param numbers: List of integers\n",
        "    :return: Sum of even integers\n",
        "    \"\"\"\n",
        "    return sum(num for num in numbers if num % 2 == 0)\n",
        "\n",
        "# Example usage\n",
        "example_list = [1, 2, 3, 4, 5, 6]\n",
        "print(sum_of_evens(example_list))  # Output: 12\n"
      ],
      "metadata": {
        "colab": {
          "base_uri": "https://localhost:8080/"
        },
        "id": "QJz-VbG4olPi",
        "outputId": "ab463b1a-35dd-4bd6-896a-2c456fa63841"
      },
      "execution_count": null,
      "outputs": [
        {
          "output_type": "stream",
          "name": "stdout",
          "text": [
            "12\n"
          ]
        }
      ]
    },
    {
      "cell_type": "code",
      "source": [
        "#Q2.Create a Python function that accepts a string and returns the reverse of that string.\n",
        "\n",
        "def reverse_string(text):\n",
        "    \"\"\"\n",
        "    Returns the reverse of the given string.\n",
        "\n",
        "    :param text: Input string\n",
        "    :return: Reversed string\n",
        "    \"\"\"\n",
        "    return text[::-1]\n",
        "\n",
        "# Example usage\n",
        "example = \"Hello, World!\"\n",
        "print(reverse_string(example))  # Output: !dlroW ,olleH\n"
      ],
      "metadata": {
        "colab": {
          "base_uri": "https://localhost:8080/"
        },
        "id": "fP8THyiCpWBu",
        "outputId": "43ba1af5-60bf-4a86-c1eb-64b9795b04ae"
      },
      "execution_count": null,
      "outputs": [
        {
          "output_type": "stream",
          "name": "stdout",
          "text": [
            "!dlroW ,olleH\n"
          ]
        }
      ]
    },
    {
      "cell_type": "code",
      "source": [
        "#Q3.Implement a Python function that takes a list of integers and returns a new list containing the squares of each number.\n",
        "\n",
        "def square_list(numbers):\n",
        "    \"\"\"\n",
        "    Returns a new list containing the squares of each integer in the input list.\n",
        "\n",
        "    :param numbers: List of integers\n",
        "    :return: List of squared integers\n",
        "    \"\"\"\n",
        "    return [num ** 2 for num in numbers]\n",
        "\n",
        "# Example usage\n",
        "example = [1, 2, 3, 4, 5]\n",
        "print(square_list(example))  # Output: [1, 4, 9, 16, 25]\n"
      ],
      "metadata": {
        "colab": {
          "base_uri": "https://localhost:8080/"
        },
        "id": "ak9s0hKjpwUl",
        "outputId": "e8f412f8-f66f-4e44-bd9f-1e80078c194c"
      },
      "execution_count": null,
      "outputs": [
        {
          "output_type": "stream",
          "name": "stdout",
          "text": [
            "[1, 4, 9, 16, 25]\n"
          ]
        }
      ]
    },
    {
      "cell_type": "code",
      "source": [
        "#Q4. Write a Python function that checks if a given number is prime or not from 1 to 200.\n",
        "\n",
        "def is_prime(n):\n",
        "    \"\"\"\n",
        "    Checks if a number is prime.\n",
        "\n",
        "    :param n: Integer to check\n",
        "    :return: True if prime, False otherwise\n",
        "    \"\"\"\n",
        "    if n <= 1:\n",
        "        return False\n",
        "    if n == 2:\n",
        "        return True\n",
        "    if n % 2 == 0:\n",
        "        return False\n",
        "\n",
        "    # Check divisibility up to sqrt(n)\n",
        "    for i in range(3, int(n**0.5) + 1, 2):\n",
        "        if n % i == 0:\n",
        "            return False\n",
        "    return True\n",
        "\n",
        "# Example usage: check numbers 1 to 200\n",
        "primes_up_to_200 = [num for num in range(1, 201) if is_prime(num)]\n",
        "print(primes_up_to_200)\n"
      ],
      "metadata": {
        "colab": {
          "base_uri": "https://localhost:8080/"
        },
        "id": "um05-X84qhy0",
        "outputId": "a0a8ce7d-dcb6-4149-bb6c-8de325dbaf98"
      },
      "execution_count": null,
      "outputs": [
        {
          "output_type": "stream",
          "name": "stdout",
          "text": [
            "[2, 3, 5, 7, 11, 13, 17, 19, 23, 29, 31, 37, 41, 43, 47, 53, 59, 61, 67, 71, 73, 79, 83, 89, 97, 101, 103, 107, 109, 113, 127, 131, 137, 139, 149, 151, 157, 163, 167, 173, 179, 181, 191, 193, 197, 199]\n"
          ]
        }
      ]
    },
    {
      "cell_type": "code",
      "source": [
        "#Q5.Create an iterator class in Python that generates the Fibonacci sequence up to a specified number of terms.\n",
        "\n",
        "class Fibonacci:\n",
        "    def __init__(self, n_terms):\n",
        "        self.n_terms = n_terms  # total number of terms to generate\n",
        "        self.count = 0          # track how many terms have been generated\n",
        "        self.a, self.b = 0, 1   # starting values of the Fibonacci sequence\n",
        "\n",
        "    def __iter__(self):\n",
        "        return self\n",
        "\n",
        "    def __next__(self):\n",
        "        if self.count >= self.n_terms:\n",
        "            raise StopIteration  # stop when desired number of terms is reached\n",
        "\n",
        "        if self.count == 0:\n",
        "            self.count += 1\n",
        "            return 0\n",
        "        elif self.count == 1:\n",
        "            self.count += 1\n",
        "            return 1\n",
        "        else:\n",
        "            self.a, self.b = self.b, self.a + self.b\n",
        "            self.count += 1\n",
        "            return self.b\n",
        "\n",
        "\n",
        "# Example usage:\n",
        "fib = Fibonacci(10)\n",
        "for num in fib:\n",
        "    print(num, end=\" \")\n"
      ],
      "metadata": {
        "colab": {
          "base_uri": "https://localhost:8080/"
        },
        "id": "gbC4T-dLpSoq",
        "outputId": "6c83e63d-9dc1-4e35-9dfc-a41b23d3a373"
      },
      "execution_count": 1,
      "outputs": [
        {
          "output_type": "stream",
          "name": "stdout",
          "text": [
            "0 1 1 2 3 5 8 13 21 34 "
          ]
        }
      ]
    },
    {
      "cell_type": "code",
      "source": [
        "#Q6. Write a generator function in Python that yields the powers of 2 up to a given exponent.\n",
        "\n",
        "def powers_of_two(max_exp):\n",
        "    \"\"\"Yield powers of 2 from 2^0 up to 2^max_exp.\"\"\"\n",
        "    for exp in range(max_exp + 1):\n",
        "        yield 2 ** exp\n",
        "\n",
        "\n",
        "# Example usage:\n",
        "for value in powers_of_two(10):\n",
        "    print(value, end=\" \")\n"
      ],
      "metadata": {
        "colab": {
          "base_uri": "https://localhost:8080/"
        },
        "id": "8xBAVDWIp26f",
        "outputId": "fa40dee5-a12f-4d21-b884-878132e24b8e"
      },
      "execution_count": 2,
      "outputs": [
        {
          "output_type": "stream",
          "name": "stdout",
          "text": [
            "1 2 4 8 16 32 64 128 256 512 1024 "
          ]
        }
      ]
    },
    {
      "cell_type": "code",
      "source": [
        "#Q7.Implement a generator function that reads a file line by line and yields each line as a string.\n",
        "\n",
        "def read_file_lines(filename):\n",
        "    \"\"\"Generator that yields one line at a time from a file.\"\"\"\n",
        "    with open(filename, \"r\") as file:\n",
        "        for line in file:\n",
        "            yield line.rstrip(\"\\n\")  # remove trailing newline for cleaner output\n",
        "\n",
        "\n",
        "# Example usage:\n",
        "for line in read_file_lines(\"example.txt\"):\n",
        "    print(line)\n"
      ],
      "metadata": {
        "id": "u6bmLg6cq67C"
      },
      "execution_count": null,
      "outputs": []
    },
    {
      "cell_type": "code",
      "source": [
        "#Q8. Use a lambda function in Python to sort a list of tuples based on the second element of each tuple.\n",
        "\n",
        "# Sample list of tuples\n",
        "data = [(1, 5), (3, 1), (4, 6), (2, 3)]\n",
        "\n",
        "# Sort by the second element in each tuple\n",
        "sorted_data = sorted(data, key=lambda x: x[1])\n",
        "\n",
        "print(sorted_data)\n"
      ],
      "metadata": {
        "colab": {
          "base_uri": "https://localhost:8080/"
        },
        "id": "pdETZgKErDhv",
        "outputId": "7bc37f21-bd2c-4ee4-a5dc-b7245b79bfd5"
      },
      "execution_count": 5,
      "outputs": [
        {
          "output_type": "stream",
          "name": "stdout",
          "text": [
            "[(3, 1), (2, 3), (1, 5), (4, 6)]\n"
          ]
        }
      ]
    },
    {
      "cell_type": "code",
      "source": [
        "#Q9.. Write a Python program that uses `map()` to convert a list of temperatures from Celsius to Fahrenheit.\n",
        "\n",
        "# List of temperatures in Celsius\n",
        "celsius = [0, 10, 20, 30, 40]\n",
        "\n",
        "# Convert to Fahrenheit using map()\n",
        "fahrenheit = list(map(lambda c: (c * 9/5) + 32, celsius))\n",
        "\n",
        "print(\"Celsius:    \", celsius)\n",
        "print(\"Fahrenheit: \", fahrenheit)\n"
      ],
      "metadata": {
        "colab": {
          "base_uri": "https://localhost:8080/"
        },
        "id": "02FMT0vSro9Q",
        "outputId": "80d59bfc-8c7b-417c-a351-ada5a39ada80"
      },
      "execution_count": 6,
      "outputs": [
        {
          "output_type": "stream",
          "name": "stdout",
          "text": [
            "Celsius:     [0, 10, 20, 30, 40]\n",
            "Fahrenheit:  [32.0, 50.0, 68.0, 86.0, 104.0]\n"
          ]
        }
      ]
    },
    {
      "cell_type": "code",
      "source": [
        "#Q10. Create a Python program that uses `filter()` to remove all the vowels from a given string.\n",
        "\n",
        "def remove_vowels(text):\n",
        "    vowels = \"aeiouAEIOU\"\n",
        "    return \"\".join(filter(lambda ch: ch not in vowels, text))\n",
        "\n",
        "\n",
        "# Example usage\n",
        "s = \"Hello World, Python is awesome!\"\n",
        "result = remove_vowels(s)\n",
        "\n",
        "print(\"Original:\", s)\n",
        "print(\"Without vowels:\", result)\n"
      ],
      "metadata": {
        "colab": {
          "base_uri": "https://localhost:8080/"
        },
        "id": "2nbcdt5vsQe5",
        "outputId": "cd752704-ff79-40ac-cb9d-fbec8879fbb6"
      },
      "execution_count": 7,
      "outputs": [
        {
          "output_type": "stream",
          "name": "stdout",
          "text": [
            "Original: Hello World, Python is awesome!\n",
            "Without vowels: Hll Wrld, Pythn s wsm!\n"
          ]
        }
      ]
    }
  ]
}